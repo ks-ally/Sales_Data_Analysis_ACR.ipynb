{
 "cells": [
  {
   "cell_type": "markdown",
   "id": "c5d2c35f",
   "metadata": {},
   "source": [
    "# 📱 Smartphone Sales Data Analysis\n",
    "This project analyzes smartphone sales across regions using Python and pandas."
   ]
  },
  {
   "cell_type": "code",
   "execution_count": null,
   "id": "c8b0f342",
   "metadata": {},
   "outputs": [],
   "source": [
    "import pandas as pd\n",
    "import matplotlib.pyplot as plt\n",
    "import seaborn as sns"
   ]
  },
  {
   "cell_type": "code",
   "execution_count": null,
   "id": "8e181e29",
   "metadata": {},
   "outputs": [],
   "source": [
    "df = pd.read_csv('smartphone_sales_data.csv')\n",
    "df.head()"
   ]
  },
  {
   "cell_type": "code",
   "execution_count": null,
   "id": "0e0f2866",
   "metadata": {},
   "outputs": [],
   "source": [
    "df.info()"
   ]
  },
  {
   "cell_type": "code",
   "execution_count": null,
   "id": "69bb7d00",
   "metadata": {},
   "outputs": [],
   "source": [
    "df.describe()"
   ]
  },
  {
   "cell_type": "code",
   "execution_count": null,
   "id": "6f5639e4",
   "metadata": {},
   "outputs": [],
   "source": [
    "\n",
    "plt.figure(figsize=(10, 6))\n",
    "sns.barplot(x='Brand', y='Total_Sales', data=df)\n",
    "plt.title('Total Sales by Smartphone Brand')\n",
    "plt.xticks(rotation=45)\n",
    "plt.tight_layout()\n",
    "plt.show()\n"
   ]
  }
 ],
 "metadata": {},
 "nbformat": 4,
 "nbformat_minor": 5
}
